{
 "cells": [
  {
   "cell_type": "code",
   "execution_count": null,
   "metadata": {},
   "outputs": [
    {
     "ename": "SyntaxError",
     "evalue": "EOL while scanning string literal (<ipython-input-26-113280e12b63>, line 5)",
     "output_type": "error",
     "traceback": [
      "\u001b[1;36m  File \u001b[1;32m\"<ipython-input-26-113280e12b63>\"\u001b[1;36m, line \u001b[1;32m5\u001b[0m\n\u001b[1;33m    tableToSync = \"BabySubType = {\u001b[0m\n\u001b[1;37m                                  ^\u001b[0m\n\u001b[1;31mSyntaxError\u001b[0m\u001b[1;31m:\u001b[0m EOL while scanning string literal\n"
     ]
    }
   ],
   "source": [
    "import re # Regex\n",
    "import codecs # utf8 file-gen\n",
    "import glob # file system itterator\n",
    "\n",
    "tableToSync = \"\"\n",
    "\n",
    "enumfile = open('D:\\\\Workspace\\\\IsaacDocs\\\\docs\\\\enums\\\\ActionTriggers.md', 'r')\n",
    "lines = enumfile.readlines()\n",
    "\n",
    "\n",
    "newLines = {}\n",
    "curEnum = \"\"\n",
    "for line in lines:\n",
    "    if \" = {\" in line:\n",
    "        curEnum = line.split(\" = {\")[0]\n",
    "        newLines[curEnum] = []\n",
    "    elif \" = \" in line:\n",
    "        comment = \"\"\n",
    "        if len(line.split(\"-- \"))>1 :\n",
    "            comment = line.split(\"-- \")[1].strip()\n",
    "            line = line.split(\"-- \")[0].strip()\n",
    "        name = line.split(\" = \")[0].strip()\n",
    "        val = line.split(\" = \")[1].strip()\n",
    "        newLines[curEnum].append([name,val, comment])\n",
    "for k in newLines:\n",
    "    print(k, len(newLines[k]),newLines[k][len(newLines[k])-1] )\n",
    "\n"
   ]
  },
  {
   "cell_type": "code",
   "execution_count": 21,
   "metadata": {},
   "outputs": [],
   "source": [
    "# Made this to help me update the SoundEffect.md file with the .wav files.\n",
    "# Keeping this here just in case, as well as the original file (originalSoundEffect.md)\n",
    "import os.path\n",
    "\n",
    "tableToSync = \"\"\n",
    "\n",
    "enumfile = open('../docs/enums/SoundEffect.md', 'r')\n",
    "outputfile = open('./outputSoundEffect.md', 'w')\n",
    "lines = enumfile.readlines()\n",
    "\n",
    "currentOutput = []\n",
    "for line in lines:\n",
    "    updatedLine = \"\"\n",
    "    if line.startswith(\"|[ ](#){: .repplus\"):\n",
    "        args = line.split('|')\n",
    "        #remove the stuff we dont need\n",
    "        args.remove('')\n",
    "\n",
    "        args[3] = \"<audio controls preload=\\\"none\\\"><source src=\\\"https://catinsurance.github.io/sounds/\" + args[1].strip() + \".wav\\\" type=\\\"audio/wav\\\"></audio>\"\n",
    "\n",
    "\n",
    "        # convert back to string and separate args with | again\n",
    "\n",
    "\n",
    "        for arg in args:\n",
    "            updatedLine += arg + \"|\"\n",
    "\n",
    "    else:\n",
    "        updatedLine = line\n",
    "\n",
    "    currentOutput.append(updatedLine)\n",
    "\n",
    "outputfile.writelines(currentOutput)"
   ]
  },
  {
   "cell_type": "code",
   "execution_count": null,
   "metadata": {},
   "outputs": [],
   "source": []
  }
 ],
 "metadata": {
  "kernelspec": {
   "display_name": "Python 3",
   "language": "python",
   "name": "python3"
  },
  "language_info": {
   "codemirror_mode": {
    "name": "ipython",
    "version": 3
   },
   "file_extension": ".py",
   "mimetype": "text/x-python",
   "name": "python",
   "nbconvert_exporter": "python",
   "pygments_lexer": "ipython3",
   "version": "3.12.4"
  }
 },
 "nbformat": 4,
 "nbformat_minor": 4
}
